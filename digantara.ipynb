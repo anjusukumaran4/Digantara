{
 "cells": [
  {
   "cell_type": "markdown",
   "id": "2baf3225",
   "metadata": {
    "papermill": {
     "duration": 0.014092,
     "end_time": "2023-11-13T04:38:38.449206",
     "exception": false,
     "start_time": "2023-11-13T04:38:38.435114",
     "status": "completed"
    },
    "tags": []
   },
   "source": [
    "Data  analysis and visualization of the evolution of satellite conjunctions over a period of time"
   ]
  },
  {
   "cell_type": "markdown",
   "id": "9fa77bc0",
   "metadata": {
    "papermill": {
     "duration": 0.012695,
     "end_time": "2023-11-13T04:38:38.475134",
     "exception": false,
     "start_time": "2023-11-13T04:38:38.462439",
     "status": "completed"
    },
    "tags": []
   },
   "source": [
    "Importing libraries"
   ]
  },
  {
   "cell_type": "code",
   "execution_count": 1,
   "id": "06da4f73",
   "metadata": {
    "execution": {
     "iopub.execute_input": "2023-11-13T04:38:38.504241Z",
     "iopub.status.busy": "2023-11-13T04:38:38.502818Z",
     "iopub.status.idle": "2023-11-13T04:38:40.191201Z",
     "shell.execute_reply": "2023-11-13T04:38:40.189924Z"
    },
    "papermill": {
     "duration": 1.706038,
     "end_time": "2023-11-13T04:38:40.194120",
     "exception": false,
     "start_time": "2023-11-13T04:38:38.488082",
     "status": "completed"
    },
    "tags": []
   },
   "outputs": [],
   "source": [
    "import numpy as np\n",
    "import pandas as pd\n",
    "\n",
    "import warnings\n",
    "warnings.filterwarnings('ignore')\n",
    "\n",
    "import matplotlib.pyplot as plt\n",
    "import seaborn as sns"
   ]
  },
  {
   "cell_type": "markdown",
   "id": "828cd3b0",
   "metadata": {
    "papermill": {
     "duration": 0.012812,
     "end_time": "2023-11-13T04:38:40.220128",
     "exception": false,
     "start_time": "2023-11-13T04:38:40.207316",
     "status": "completed"
    },
    "tags": []
   },
   "source": [
    "## Load Data"
   ]
  },
  {
   "cell_type": "code",
   "execution_count": 2,
   "id": "ce39c60f",
   "metadata": {
    "execution": {
     "iopub.execute_input": "2023-11-13T04:38:40.248572Z",
     "iopub.status.busy": "2023-11-13T04:38:40.247850Z",
     "iopub.status.idle": "2023-11-13T04:38:40.582567Z",
     "shell.execute_reply": "2023-11-13T04:38:40.581279Z"
    },
    "papermill": {
     "duration": 0.352232,
     "end_time": "2023-11-13T04:38:40.585479",
     "exception": false,
     "start_time": "2023-11-13T04:38:40.233247",
     "status": "completed"
    },
    "tags": []
   },
   "outputs": [],
   "source": [
    "df=pd.read_csv('/kaggle/input/satellite/sort-minRange (1).csv')"
   ]
  },
  {
   "cell_type": "markdown",
   "id": "8f01002e",
   "metadata": {
    "papermill": {
     "duration": 0.012678,
     "end_time": "2023-11-13T04:38:40.611095",
     "exception": false,
     "start_time": "2023-11-13T04:38:40.598417",
     "status": "completed"
    },
    "tags": []
   },
   "source": [
    "## Data Exploration"
   ]
  },
  {
   "cell_type": "code",
   "execution_count": 3,
   "id": "f675a240",
   "metadata": {
    "execution": {
     "iopub.execute_input": "2023-11-13T04:38:40.638760Z",
     "iopub.status.busy": "2023-11-13T04:38:40.638288Z",
     "iopub.status.idle": "2023-11-13T04:38:40.645112Z",
     "shell.execute_reply": "2023-11-13T04:38:40.643765Z"
    },
    "papermill": {
     "duration": 0.023777,
     "end_time": "2023-11-13T04:38:40.647587",
     "exception": false,
     "start_time": "2023-11-13T04:38:40.623810",
     "status": "completed"
    },
    "tags": []
   },
   "outputs": [
    {
     "name": "stdout",
     "output_type": "stream",
     "text": [
      "Shape of train data :  (67527, 11)\n"
     ]
    }
   ],
   "source": [
    "print('Shape of train data : ',df.shape)"
   ]
  },
  {
   "cell_type": "code",
   "execution_count": 4,
   "id": "c046654b",
   "metadata": {
    "execution": {
     "iopub.execute_input": "2023-11-13T04:38:40.675518Z",
     "iopub.status.busy": "2023-11-13T04:38:40.675077Z",
     "iopub.status.idle": "2023-11-13T04:38:40.705822Z",
     "shell.execute_reply": "2023-11-13T04:38:40.704463Z"
    },
    "papermill": {
     "duration": 0.047594,
     "end_time": "2023-11-13T04:38:40.708250",
     "exception": false,
     "start_time": "2023-11-13T04:38:40.660656",
     "status": "completed"
    },
    "tags": []
   },
   "outputs": [
    {
     "data": {
      "text/html": [
       "<div>\n",
       "<style scoped>\n",
       "    .dataframe tbody tr th:only-of-type {\n",
       "        vertical-align: middle;\n",
       "    }\n",
       "\n",
       "    .dataframe tbody tr th {\n",
       "        vertical-align: top;\n",
       "    }\n",
       "\n",
       "    .dataframe thead th {\n",
       "        text-align: right;\n",
       "    }\n",
       "</style>\n",
       "<table border=\"1\" class=\"dataframe\">\n",
       "  <thead>\n",
       "    <tr style=\"text-align: right;\">\n",
       "      <th></th>\n",
       "      <th>NORAD_CAT_ID_1</th>\n",
       "      <th>OBJECT_NAME_1</th>\n",
       "      <th>DSE_1</th>\n",
       "      <th>NORAD_CAT_ID_2</th>\n",
       "      <th>OBJECT_NAME_2</th>\n",
       "      <th>DSE_2</th>\n",
       "      <th>TCA</th>\n",
       "      <th>TCA_RANGE</th>\n",
       "      <th>TCA_RELATIVE_SPEED</th>\n",
       "      <th>MAX_PROB</th>\n",
       "      <th>DILUTION</th>\n",
       "    </tr>\n",
       "  </thead>\n",
       "  <tbody>\n",
       "    <tr>\n",
       "      <th>0</th>\n",
       "      <td>54194</td>\n",
       "      <td>STARLINK-5271 [+]</td>\n",
       "      <td>4.440</td>\n",
       "      <td>57327</td>\n",
       "      <td>OBJECT BB [-]</td>\n",
       "      <td>4.017</td>\n",
       "      <td>2023-11-16 10:19:56.153</td>\n",
       "      <td>0.015</td>\n",
       "      <td>14.689</td>\n",
       "      <td>0.074910</td>\n",
       "      <td>0.008</td>\n",
       "    </tr>\n",
       "    <tr>\n",
       "      <th>1</th>\n",
       "      <td>53980</td>\n",
       "      <td>STARLINK-5133 [+]</td>\n",
       "      <td>6.673</td>\n",
       "      <td>39690</td>\n",
       "      <td>COSMOS 921 DEB [-]</td>\n",
       "      <td>6.440</td>\n",
       "      <td>2023-11-18 06:43:24.056</td>\n",
       "      <td>0.024</td>\n",
       "      <td>8.707</td>\n",
       "      <td>0.054480</td>\n",
       "      <td>0.007</td>\n",
       "    </tr>\n",
       "    <tr>\n",
       "      <th>2</th>\n",
       "      <td>52380</td>\n",
       "      <td>STARLINK-3793 [+]</td>\n",
       "      <td>1.755</td>\n",
       "      <td>43801</td>\n",
       "      <td>OBJECT AV [-]</td>\n",
       "      <td>1.225</td>\n",
       "      <td>2023-11-13 16:11:23.309</td>\n",
       "      <td>0.026</td>\n",
       "      <td>5.733</td>\n",
       "      <td>0.051040</td>\n",
       "      <td>0.007</td>\n",
       "    </tr>\n",
       "    <tr>\n",
       "      <th>3</th>\n",
       "      <td>56154</td>\n",
       "      <td>OBJECT B [+]</td>\n",
       "      <td>0.484</td>\n",
       "      <td>56155</td>\n",
       "      <td>OBJECT C [+]</td>\n",
       "      <td>0.484</td>\n",
       "      <td>2023-11-12 23:53:39.065</td>\n",
       "      <td>0.029</td>\n",
       "      <td>0.001</td>\n",
       "      <td>0.005313</td>\n",
       "      <td>0.007</td>\n",
       "    </tr>\n",
       "    <tr>\n",
       "      <th>4</th>\n",
       "      <td>41850</td>\n",
       "      <td>CELTEE 1 [+]</td>\n",
       "      <td>2.070</td>\n",
       "      <td>55991</td>\n",
       "      <td>STARLINK-5948 [+]</td>\n",
       "      <td>1.485</td>\n",
       "      <td>2023-11-13 22:37:57.150</td>\n",
       "      <td>0.032</td>\n",
       "      <td>13.486</td>\n",
       "      <td>0.021000</td>\n",
       "      <td>0.014</td>\n",
       "    </tr>\n",
       "  </tbody>\n",
       "</table>\n",
       "</div>"
      ],
      "text/plain": [
       "   NORAD_CAT_ID_1      OBJECT_NAME_1  DSE_1  NORAD_CAT_ID_2  \\\n",
       "0           54194  STARLINK-5271 [+]  4.440           57327   \n",
       "1           53980  STARLINK-5133 [+]  6.673           39690   \n",
       "2           52380  STARLINK-3793 [+]  1.755           43801   \n",
       "3           56154       OBJECT B [+]  0.484           56155   \n",
       "4           41850       CELTEE 1 [+]  2.070           55991   \n",
       "\n",
       "        OBJECT_NAME_2  DSE_2                      TCA  TCA_RANGE  \\\n",
       "0       OBJECT BB [-]  4.017  2023-11-16 10:19:56.153      0.015   \n",
       "1  COSMOS 921 DEB [-]  6.440  2023-11-18 06:43:24.056      0.024   \n",
       "2       OBJECT AV [-]  1.225  2023-11-13 16:11:23.309      0.026   \n",
       "3        OBJECT C [+]  0.484  2023-11-12 23:53:39.065      0.029   \n",
       "4   STARLINK-5948 [+]  1.485  2023-11-13 22:37:57.150      0.032   \n",
       "\n",
       "   TCA_RELATIVE_SPEED  MAX_PROB  DILUTION  \n",
       "0              14.689  0.074910     0.008  \n",
       "1               8.707  0.054480     0.007  \n",
       "2               5.733  0.051040     0.007  \n",
       "3               0.001  0.005313     0.007  \n",
       "4              13.486  0.021000     0.014  "
      ]
     },
     "execution_count": 4,
     "metadata": {},
     "output_type": "execute_result"
    }
   ],
   "source": [
    "df.head()"
   ]
  },
  {
   "cell_type": "code",
   "execution_count": 5,
   "id": "343a7795",
   "metadata": {
    "execution": {
     "iopub.execute_input": "2023-11-13T04:38:40.737038Z",
     "iopub.status.busy": "2023-11-13T04:38:40.736637Z",
     "iopub.status.idle": "2023-11-13T04:38:40.744706Z",
     "shell.execute_reply": "2023-11-13T04:38:40.743433Z"
    },
    "papermill": {
     "duration": 0.025311,
     "end_time": "2023-11-13T04:38:40.747105",
     "exception": false,
     "start_time": "2023-11-13T04:38:40.721794",
     "status": "completed"
    },
    "tags": []
   },
   "outputs": [
    {
     "data": {
      "text/plain": [
       "Index(['NORAD_CAT_ID_1', 'OBJECT_NAME_1', 'DSE_1', 'NORAD_CAT_ID_2',\n",
       "       'OBJECT_NAME_2', 'DSE_2', 'TCA', 'TCA_RANGE', 'TCA_RELATIVE_SPEED',\n",
       "       'MAX_PROB', 'DILUTION'],\n",
       "      dtype='object')"
      ]
     },
     "execution_count": 5,
     "metadata": {},
     "output_type": "execute_result"
    }
   ],
   "source": [
    "df.columns"
   ]
  },
  {
   "cell_type": "code",
   "execution_count": 6,
   "id": "c9c0a387",
   "metadata": {
    "execution": {
     "iopub.execute_input": "2023-11-13T04:38:40.776355Z",
     "iopub.status.busy": "2023-11-13T04:38:40.775989Z",
     "iopub.status.idle": "2023-11-13T04:38:40.824110Z",
     "shell.execute_reply": "2023-11-13T04:38:40.822763Z"
    },
    "papermill": {
     "duration": 0.065773,
     "end_time": "2023-11-13T04:38:40.826541",
     "exception": false,
     "start_time": "2023-11-13T04:38:40.760768",
     "status": "completed"
    },
    "tags": []
   },
   "outputs": [
    {
     "name": "stdout",
     "output_type": "stream",
     "text": [
      "<class 'pandas.core.frame.DataFrame'>\n",
      "RangeIndex: 67527 entries, 0 to 67526\n",
      "Data columns (total 11 columns):\n",
      " #   Column              Non-Null Count  Dtype  \n",
      "---  ------              --------------  -----  \n",
      " 0   NORAD_CAT_ID_1      67527 non-null  int64  \n",
      " 1   OBJECT_NAME_1       67527 non-null  object \n",
      " 2   DSE_1               67527 non-null  float64\n",
      " 3   NORAD_CAT_ID_2      67527 non-null  int64  \n",
      " 4   OBJECT_NAME_2       67527 non-null  object \n",
      " 5   DSE_2               67527 non-null  float64\n",
      " 6   TCA                 67527 non-null  object \n",
      " 7   TCA_RANGE           67527 non-null  float64\n",
      " 8   TCA_RELATIVE_SPEED  67527 non-null  float64\n",
      " 9   MAX_PROB            67527 non-null  float64\n",
      " 10  DILUTION            67527 non-null  float64\n",
      "dtypes: float64(6), int64(2), object(3)\n",
      "memory usage: 5.7+ MB\n"
     ]
    }
   ],
   "source": [
    "df.info()"
   ]
  },
  {
   "cell_type": "markdown",
   "id": "e25941ef",
   "metadata": {
    "papermill": {
     "duration": 0.013459,
     "end_time": "2023-11-13T04:38:40.854332",
     "exception": false,
     "start_time": "2023-11-13T04:38:40.840873",
     "status": "completed"
    },
    "tags": []
   },
   "source": [
    "Checking for null values"
   ]
  },
  {
   "cell_type": "code",
   "execution_count": 7,
   "id": "9c12dcf7",
   "metadata": {
    "execution": {
     "iopub.execute_input": "2023-11-13T04:38:40.883511Z",
     "iopub.status.busy": "2023-11-13T04:38:40.883149Z",
     "iopub.status.idle": "2023-11-13T04:38:40.915107Z",
     "shell.execute_reply": "2023-11-13T04:38:40.914260Z"
    },
    "papermill": {
     "duration": 0.049167,
     "end_time": "2023-11-13T04:38:40.917226",
     "exception": false,
     "start_time": "2023-11-13T04:38:40.868059",
     "status": "completed"
    },
    "tags": []
   },
   "outputs": [
    {
     "data": {
      "text/plain": [
       "NORAD_CAT_ID_1        0\n",
       "OBJECT_NAME_1         0\n",
       "DSE_1                 0\n",
       "NORAD_CAT_ID_2        0\n",
       "OBJECT_NAME_2         0\n",
       "DSE_2                 0\n",
       "TCA                   0\n",
       "TCA_RANGE             0\n",
       "TCA_RELATIVE_SPEED    0\n",
       "MAX_PROB              0\n",
       "DILUTION              0\n",
       "dtype: int64"
      ]
     },
     "execution_count": 7,
     "metadata": {},
     "output_type": "execute_result"
    }
   ],
   "source": [
    "df.isnull().sum()"
   ]
  },
  {
   "cell_type": "markdown",
   "id": "b0e62919",
   "metadata": {
    "papermill": {
     "duration": 0.013438,
     "end_time": "2023-11-13T04:38:40.944596",
     "exception": false,
     "start_time": "2023-11-13T04:38:40.931158",
     "status": "completed"
    },
    "tags": []
   },
   "source": [
    "No null values in train dataset"
   ]
  },
  {
   "cell_type": "code",
   "execution_count": 8,
   "id": "0681750e",
   "metadata": {
    "execution": {
     "iopub.execute_input": "2023-11-13T04:38:40.975079Z",
     "iopub.status.busy": "2023-11-13T04:38:40.974601Z",
     "iopub.status.idle": "2023-11-13T04:38:41.040023Z",
     "shell.execute_reply": "2023-11-13T04:38:41.038577Z"
    },
    "papermill": {
     "duration": 0.084422,
     "end_time": "2023-11-13T04:38:41.042867",
     "exception": false,
     "start_time": "2023-11-13T04:38:40.958445",
     "status": "completed"
    },
    "tags": []
   },
   "outputs": [
    {
     "data": {
      "text/html": [
       "<div>\n",
       "<style scoped>\n",
       "    .dataframe tbody tr th:only-of-type {\n",
       "        vertical-align: middle;\n",
       "    }\n",
       "\n",
       "    .dataframe tbody tr th {\n",
       "        vertical-align: top;\n",
       "    }\n",
       "\n",
       "    .dataframe thead th {\n",
       "        text-align: right;\n",
       "    }\n",
       "</style>\n",
       "<table border=\"1\" class=\"dataframe\">\n",
       "  <thead>\n",
       "    <tr style=\"text-align: right;\">\n",
       "      <th></th>\n",
       "      <th>count</th>\n",
       "      <th>mean</th>\n",
       "      <th>std</th>\n",
       "      <th>min</th>\n",
       "      <th>25%</th>\n",
       "      <th>50%</th>\n",
       "      <th>75%</th>\n",
       "      <th>max</th>\n",
       "    </tr>\n",
       "  </thead>\n",
       "  <tbody>\n",
       "    <tr>\n",
       "      <th>NORAD_CAT_ID_1</th>\n",
       "      <td>67527.0</td>\n",
       "      <td>48439.866661</td>\n",
       "      <td>7096.106154</td>\n",
       "      <td>9.000000e+02</td>\n",
       "      <td>4.388100e+04</td>\n",
       "      <td>48860.000000</td>\n",
       "      <td>53876.000000</td>\n",
       "      <td>58255.00000</td>\n",
       "    </tr>\n",
       "    <tr>\n",
       "      <th>DSE_1</th>\n",
       "      <td>67527.0</td>\n",
       "      <td>4.036083</td>\n",
       "      <td>2.050450</td>\n",
       "      <td>1.070000e-01</td>\n",
       "      <td>2.292000e+00</td>\n",
       "      <td>4.042000</td>\n",
       "      <td>5.783000</td>\n",
       "      <td>26.80900</td>\n",
       "    </tr>\n",
       "    <tr>\n",
       "      <th>NORAD_CAT_ID_2</th>\n",
       "      <td>67527.0</td>\n",
       "      <td>43542.512151</td>\n",
       "      <td>23210.799216</td>\n",
       "      <td>1.100000e+01</td>\n",
       "      <td>3.187800e+04</td>\n",
       "      <td>46484.000000</td>\n",
       "      <td>56197.000000</td>\n",
       "      <td>270286.00000</td>\n",
       "    </tr>\n",
       "    <tr>\n",
       "      <th>DSE_2</th>\n",
       "      <td>67527.0</td>\n",
       "      <td>4.447418</td>\n",
       "      <td>2.718874</td>\n",
       "      <td>1.210000e-01</td>\n",
       "      <td>2.481000e+00</td>\n",
       "      <td>4.305000</td>\n",
       "      <td>6.080500</td>\n",
       "      <td>36.44300</td>\n",
       "    </tr>\n",
       "    <tr>\n",
       "      <th>TCA_RANGE</th>\n",
       "      <td>67527.0</td>\n",
       "      <td>3.322413</td>\n",
       "      <td>1.180600</td>\n",
       "      <td>1.500000e-02</td>\n",
       "      <td>2.487000e+00</td>\n",
       "      <td>3.522000</td>\n",
       "      <td>4.321000</td>\n",
       "      <td>5.00000</td>\n",
       "    </tr>\n",
       "    <tr>\n",
       "      <th>TCA_RELATIVE_SPEED</th>\n",
       "      <td>67527.0</td>\n",
       "      <td>11.357774</td>\n",
       "      <td>3.799778</td>\n",
       "      <td>0.000000e+00</td>\n",
       "      <td>8.961000e+00</td>\n",
       "      <td>12.884000</td>\n",
       "      <td>14.405000</td>\n",
       "      <td>17.04700</td>\n",
       "    </tr>\n",
       "    <tr>\n",
       "      <th>MAX_PROB</th>\n",
       "      <td>67527.0</td>\n",
       "      <td>0.000015</td>\n",
       "      <td>0.000458</td>\n",
       "      <td>1.576000e-08</td>\n",
       "      <td>2.425000e-07</td>\n",
       "      <td>0.000001</td>\n",
       "      <td>0.000002</td>\n",
       "      <td>0.07491</td>\n",
       "    </tr>\n",
       "    <tr>\n",
       "      <th>DILUTION</th>\n",
       "      <td>67527.0</td>\n",
       "      <td>1.394541</td>\n",
       "      <td>0.709551</td>\n",
       "      <td>7.000000e-03</td>\n",
       "      <td>8.850000e-01</td>\n",
       "      <td>1.262000</td>\n",
       "      <td>1.851000</td>\n",
       "      <td>3.52900</td>\n",
       "    </tr>\n",
       "  </tbody>\n",
       "</table>\n",
       "</div>"
      ],
      "text/plain": [
       "                      count          mean           std           min  \\\n",
       "NORAD_CAT_ID_1      67527.0  48439.866661   7096.106154  9.000000e+02   \n",
       "DSE_1               67527.0      4.036083      2.050450  1.070000e-01   \n",
       "NORAD_CAT_ID_2      67527.0  43542.512151  23210.799216  1.100000e+01   \n",
       "DSE_2               67527.0      4.447418      2.718874  1.210000e-01   \n",
       "TCA_RANGE           67527.0      3.322413      1.180600  1.500000e-02   \n",
       "TCA_RELATIVE_SPEED  67527.0     11.357774      3.799778  0.000000e+00   \n",
       "MAX_PROB            67527.0      0.000015      0.000458  1.576000e-08   \n",
       "DILUTION            67527.0      1.394541      0.709551  7.000000e-03   \n",
       "\n",
       "                             25%           50%           75%           max  \n",
       "NORAD_CAT_ID_1      4.388100e+04  48860.000000  53876.000000   58255.00000  \n",
       "DSE_1               2.292000e+00      4.042000      5.783000      26.80900  \n",
       "NORAD_CAT_ID_2      3.187800e+04  46484.000000  56197.000000  270286.00000  \n",
       "DSE_2               2.481000e+00      4.305000      6.080500      36.44300  \n",
       "TCA_RANGE           2.487000e+00      3.522000      4.321000       5.00000  \n",
       "TCA_RELATIVE_SPEED  8.961000e+00     12.884000     14.405000      17.04700  \n",
       "MAX_PROB            2.425000e-07      0.000001      0.000002       0.07491  \n",
       "DILUTION            8.850000e-01      1.262000      1.851000       3.52900  "
      ]
     },
     "execution_count": 8,
     "metadata": {},
     "output_type": "execute_result"
    }
   ],
   "source": [
    "df.describe().transpose()"
   ]
  },
  {
   "cell_type": "markdown",
   "id": "90810f9e",
   "metadata": {
    "papermill": {
     "duration": 0.014255,
     "end_time": "2023-11-13T04:38:41.072234",
     "exception": false,
     "start_time": "2023-11-13T04:38:41.057979",
     "status": "completed"
    },
    "tags": []
   },
   "source": [
    "### Filter Data for a Specific Satellite"
   ]
  },
  {
   "cell_type": "code",
   "execution_count": 9,
   "id": "0750d4a9",
   "metadata": {
    "execution": {
     "iopub.execute_input": "2023-11-13T04:38:41.105020Z",
     "iopub.status.busy": "2023-11-13T04:38:41.104292Z",
     "iopub.status.idle": "2023-11-13T04:38:41.112304Z",
     "shell.execute_reply": "2023-11-13T04:38:41.111172Z"
    },
    "papermill": {
     "duration": 0.027728,
     "end_time": "2023-11-13T04:38:41.114676",
     "exception": false,
     "start_time": "2023-11-13T04:38:41.086948",
     "status": "completed"
    },
    "tags": []
   },
   "outputs": [],
   "source": [
    "satellite_id = 900\n",
    "satellite_df = df[(df['NORAD_CAT_ID_1'] == satellite_id) | (df['NORAD_CAT_ID_2'] == satellite_id)]"
   ]
  },
  {
   "cell_type": "code",
   "execution_count": 10,
   "id": "f46b7fd3",
   "metadata": {
    "execution": {
     "iopub.execute_input": "2023-11-13T04:38:41.146502Z",
     "iopub.status.busy": "2023-11-13T04:38:41.145823Z",
     "iopub.status.idle": "2023-11-13T04:38:41.163325Z",
     "shell.execute_reply": "2023-11-13T04:38:41.162179Z"
    },
    "papermill": {
     "duration": 0.036374,
     "end_time": "2023-11-13T04:38:41.166187",
     "exception": false,
     "start_time": "2023-11-13T04:38:41.129813",
     "status": "completed"
    },
    "tags": []
   },
   "outputs": [
    {
     "data": {
      "text/html": [
       "<div>\n",
       "<style scoped>\n",
       "    .dataframe tbody tr th:only-of-type {\n",
       "        vertical-align: middle;\n",
       "    }\n",
       "\n",
       "    .dataframe tbody tr th {\n",
       "        vertical-align: top;\n",
       "    }\n",
       "\n",
       "    .dataframe thead th {\n",
       "        text-align: right;\n",
       "    }\n",
       "</style>\n",
       "<table border=\"1\" class=\"dataframe\">\n",
       "  <thead>\n",
       "    <tr style=\"text-align: right;\">\n",
       "      <th></th>\n",
       "      <th>NORAD_CAT_ID_1</th>\n",
       "      <th>OBJECT_NAME_1</th>\n",
       "      <th>DSE_1</th>\n",
       "      <th>NORAD_CAT_ID_2</th>\n",
       "      <th>OBJECT_NAME_2</th>\n",
       "      <th>DSE_2</th>\n",
       "      <th>TCA</th>\n",
       "      <th>TCA_RANGE</th>\n",
       "      <th>TCA_RELATIVE_SPEED</th>\n",
       "      <th>MAX_PROB</th>\n",
       "      <th>DILUTION</th>\n",
       "    </tr>\n",
       "  </thead>\n",
       "  <tbody>\n",
       "    <tr>\n",
       "      <th>1159</th>\n",
       "      <td>900</td>\n",
       "      <td>CALSPHERE 1 [+]</td>\n",
       "      <td>3.185</td>\n",
       "      <td>31963</td>\n",
       "      <td>FENGYUN 1C DEB [-]</td>\n",
       "      <td>10.820</td>\n",
       "      <td>2023-11-15 16:41:55.533</td>\n",
       "      <td>0.622</td>\n",
       "      <td>7.262</td>\n",
       "      <td>3.999000e-06</td>\n",
       "      <td>0.166</td>\n",
       "    </tr>\n",
       "    <tr>\n",
       "      <th>11657</th>\n",
       "      <td>900</td>\n",
       "      <td>CALSPHERE 1 [+]</td>\n",
       "      <td>0.702</td>\n",
       "      <td>29196</td>\n",
       "      <td>COSMOS 860 COOLANT [-]</td>\n",
       "      <td>4.345</td>\n",
       "      <td>2023-11-13 05:06:37.734</td>\n",
       "      <td>2.074</td>\n",
       "      <td>9.536</td>\n",
       "      <td>3.225000e-07</td>\n",
       "      <td>0.618</td>\n",
       "    </tr>\n",
       "    <tr>\n",
       "      <th>13403</th>\n",
       "      <td>900</td>\n",
       "      <td>CALSPHERE 1 [+]</td>\n",
       "      <td>6.170</td>\n",
       "      <td>48518</td>\n",
       "      <td>FENGYUN 1C DEB [-]</td>\n",
       "      <td>23.018</td>\n",
       "      <td>2023-11-18 16:20:57.907</td>\n",
       "      <td>2.220</td>\n",
       "      <td>14.138</td>\n",
       "      <td>1.489000e-07</td>\n",
       "      <td>1.250</td>\n",
       "    </tr>\n",
       "    <tr>\n",
       "      <th>17216</th>\n",
       "      <td>900</td>\n",
       "      <td>CALSPHERE 1 [+]</td>\n",
       "      <td>6.902</td>\n",
       "      <td>36519</td>\n",
       "      <td>COSMOS 2463 [+]</td>\n",
       "      <td>7.548</td>\n",
       "      <td>2023-11-19 09:53:50.296</td>\n",
       "      <td>2.513</td>\n",
       "      <td>14.644</td>\n",
       "      <td>9.659000e-08</td>\n",
       "      <td>1.700</td>\n",
       "    </tr>\n",
       "    <tr>\n",
       "      <th>19750</th>\n",
       "      <td>900</td>\n",
       "      <td>CALSPHERE 1 [+]</td>\n",
       "      <td>1.936</td>\n",
       "      <td>13260</td>\n",
       "      <td>SL-8 R/B [-]</td>\n",
       "      <td>2.142</td>\n",
       "      <td>2023-11-14 10:43:22.806</td>\n",
       "      <td>2.698</td>\n",
       "      <td>14.004</td>\n",
       "      <td>9.235000e-07</td>\n",
       "      <td>1.435</td>\n",
       "    </tr>\n",
       "  </tbody>\n",
       "</table>\n",
       "</div>"
      ],
      "text/plain": [
       "       NORAD_CAT_ID_1    OBJECT_NAME_1  DSE_1  NORAD_CAT_ID_2  \\\n",
       "1159              900  CALSPHERE 1 [+]  3.185           31963   \n",
       "11657             900  CALSPHERE 1 [+]  0.702           29196   \n",
       "13403             900  CALSPHERE 1 [+]  6.170           48518   \n",
       "17216             900  CALSPHERE 1 [+]  6.902           36519   \n",
       "19750             900  CALSPHERE 1 [+]  1.936           13260   \n",
       "\n",
       "                OBJECT_NAME_2   DSE_2                      TCA  TCA_RANGE  \\\n",
       "1159       FENGYUN 1C DEB [-]  10.820  2023-11-15 16:41:55.533      0.622   \n",
       "11657  COSMOS 860 COOLANT [-]   4.345  2023-11-13 05:06:37.734      2.074   \n",
       "13403      FENGYUN 1C DEB [-]  23.018  2023-11-18 16:20:57.907      2.220   \n",
       "17216         COSMOS 2463 [+]   7.548  2023-11-19 09:53:50.296      2.513   \n",
       "19750            SL-8 R/B [-]   2.142  2023-11-14 10:43:22.806      2.698   \n",
       "\n",
       "       TCA_RELATIVE_SPEED      MAX_PROB  DILUTION  \n",
       "1159                7.262  3.999000e-06     0.166  \n",
       "11657               9.536  3.225000e-07     0.618  \n",
       "13403              14.138  1.489000e-07     1.250  \n",
       "17216              14.644  9.659000e-08     1.700  \n",
       "19750              14.004  9.235000e-07     1.435  "
      ]
     },
     "execution_count": 10,
     "metadata": {},
     "output_type": "execute_result"
    }
   ],
   "source": [
    "satellite_df.head()"
   ]
  },
  {
   "cell_type": "code",
   "execution_count": 11,
   "id": "cb6879e2",
   "metadata": {
    "execution": {
     "iopub.execute_input": "2023-11-13T04:38:41.261502Z",
     "iopub.status.busy": "2023-11-13T04:38:41.260437Z",
     "iopub.status.idle": "2023-11-13T04:38:41.357053Z",
     "shell.execute_reply": "2023-11-13T04:38:41.355776Z"
    },
    "papermill": {
     "duration": 0.179001,
     "end_time": "2023-11-13T04:38:41.360186",
     "exception": false,
     "start_time": "2023-11-13T04:38:41.181185",
     "status": "completed"
    },
    "tags": []
   },
   "outputs": [],
   "source": [
    "df['TCA'] = pd.to_datetime(df['TCA'])\n",
    "df['Day'] = df['TCA'].dt.date\n",
    "daily_conjunctions = df.groupby('Day').size().reset_index(name='Conjunctions')"
   ]
  },
  {
   "cell_type": "code",
   "execution_count": 12,
   "id": "57802f4e",
   "metadata": {
    "execution": {
     "iopub.execute_input": "2023-11-13T04:38:41.393991Z",
     "iopub.status.busy": "2023-11-13T04:38:41.393566Z",
     "iopub.status.idle": "2023-11-13T04:38:41.404432Z",
     "shell.execute_reply": "2023-11-13T04:38:41.403268Z"
    },
    "papermill": {
     "duration": 0.031151,
     "end_time": "2023-11-13T04:38:41.406871",
     "exception": false,
     "start_time": "2023-11-13T04:38:41.375720",
     "status": "completed"
    },
    "tags": []
   },
   "outputs": [
    {
     "data": {
      "text/html": [
       "<div>\n",
       "<style scoped>\n",
       "    .dataframe tbody tr th:only-of-type {\n",
       "        vertical-align: middle;\n",
       "    }\n",
       "\n",
       "    .dataframe tbody tr th {\n",
       "        vertical-align: top;\n",
       "    }\n",
       "\n",
       "    .dataframe thead th {\n",
       "        text-align: right;\n",
       "    }\n",
       "</style>\n",
       "<table border=\"1\" class=\"dataframe\">\n",
       "  <thead>\n",
       "    <tr style=\"text-align: right;\">\n",
       "      <th></th>\n",
       "      <th>Day</th>\n",
       "      <th>Conjunctions</th>\n",
       "    </tr>\n",
       "  </thead>\n",
       "  <tbody>\n",
       "    <tr>\n",
       "      <th>0</th>\n",
       "      <td>2023-11-12</td>\n",
       "      <td>3303</td>\n",
       "    </tr>\n",
       "    <tr>\n",
       "      <th>1</th>\n",
       "      <td>2023-11-13</td>\n",
       "      <td>9563</td>\n",
       "    </tr>\n",
       "    <tr>\n",
       "      <th>2</th>\n",
       "      <td>2023-11-14</td>\n",
       "      <td>9518</td>\n",
       "    </tr>\n",
       "    <tr>\n",
       "      <th>3</th>\n",
       "      <td>2023-11-15</td>\n",
       "      <td>9702</td>\n",
       "    </tr>\n",
       "    <tr>\n",
       "      <th>4</th>\n",
       "      <td>2023-11-16</td>\n",
       "      <td>9724</td>\n",
       "    </tr>\n",
       "    <tr>\n",
       "      <th>5</th>\n",
       "      <td>2023-11-17</td>\n",
       "      <td>9723</td>\n",
       "    </tr>\n",
       "    <tr>\n",
       "      <th>6</th>\n",
       "      <td>2023-11-18</td>\n",
       "      <td>9554</td>\n",
       "    </tr>\n",
       "    <tr>\n",
       "      <th>7</th>\n",
       "      <td>2023-11-19</td>\n",
       "      <td>6440</td>\n",
       "    </tr>\n",
       "  </tbody>\n",
       "</table>\n",
       "</div>"
      ],
      "text/plain": [
       "          Day  Conjunctions\n",
       "0  2023-11-12          3303\n",
       "1  2023-11-13          9563\n",
       "2  2023-11-14          9518\n",
       "3  2023-11-15          9702\n",
       "4  2023-11-16          9724\n",
       "5  2023-11-17          9723\n",
       "6  2023-11-18          9554\n",
       "7  2023-11-19          6440"
      ]
     },
     "execution_count": 12,
     "metadata": {},
     "output_type": "execute_result"
    }
   ],
   "source": [
    "daily_conjunctions"
   ]
  },
  {
   "cell_type": "code",
   "execution_count": 13,
   "id": "fd5396e3",
   "metadata": {
    "execution": {
     "iopub.execute_input": "2023-11-13T04:38:41.438864Z",
     "iopub.status.busy": "2023-11-13T04:38:41.438377Z",
     "iopub.status.idle": "2023-11-13T04:38:41.990231Z",
     "shell.execute_reply": "2023-11-13T04:38:41.988581Z"
    },
    "papermill": {
     "duration": 0.57095,
     "end_time": "2023-11-13T04:38:41.992882",
     "exception": false,
     "start_time": "2023-11-13T04:38:41.421932",
     "status": "completed"
    },
    "tags": []
   },
   "outputs": [
    {
     "data": {
      "image/png": "[encoded data removed]",
      "text/plain": [
       "<Figure size 1200x600 with 1 Axes>"
      ]
     },
     "metadata": {},
     "output_type": "display_data"
    }
   ],
   "source": [
    "plt.figure(figsize=(12, 6))\n",
    "sns.lineplot(x='Day', y='Conjunctions', data=daily_conjunctions)\n",
    "plt.title(f'Satellite Conjunctions Evolution for NORAD ID {satellite_id}')\n",
    "plt.xlabel('Day')\n",
    "plt.ylabel('Number of Conjunctions')\n",
    "plt.show()"
   ]
  },
  {
   "cell_type": "markdown",
   "id": "39cfa75c",
   "metadata": {
    "papermill": {
     "duration": 0.015654,
     "end_time": "2023-11-13T04:38:42.025226",
     "exception": false,
     "start_time": "2023-11-13T04:38:42.009572",
     "status": "completed"
    },
    "tags": []
   },
   "source": [
    "## ML Model Building using this dataset to predict the value of dilution"
   ]
  },
  {
   "cell_type": "code",
   "execution_count": 14,
   "id": "8fcedcb2",
   "metadata": {
    "execution": {
     "iopub.execute_input": "2023-11-13T04:38:42.060028Z",
     "iopub.status.busy": "2023-11-13T04:38:42.059184Z",
     "iopub.status.idle": "2023-11-13T04:38:42.292299Z",
     "shell.execute_reply": "2023-11-13T04:38:42.291263Z"
    },
    "papermill": {
     "duration": 0.253422,
     "end_time": "2023-11-13T04:38:42.294873",
     "exception": false,
     "start_time": "2023-11-13T04:38:42.041451",
     "status": "completed"
    },
    "tags": []
   },
   "outputs": [],
   "source": [
    "df=pd.read_csv('/kaggle/input/satellite/sort-minRange (1).csv')"
   ]
  },
  {
   "cell_type": "code",
   "execution_count": 15,
   "id": "135a3447",
   "metadata": {
    "execution": {
     "iopub.execute_input": "2023-11-13T04:38:42.328855Z",
     "iopub.status.busy": "2023-11-13T04:38:42.328348Z",
     "iopub.status.idle": "2023-11-13T04:38:42.348932Z",
     "shell.execute_reply": "2023-11-13T04:38:42.347754Z"
    },
    "papermill": {
     "duration": 0.040186,
     "end_time": "2023-11-13T04:38:42.351348",
     "exception": false,
     "start_time": "2023-11-13T04:38:42.311162",
     "status": "completed"
    },
    "tags": []
   },
   "outputs": [
    {
     "data": {
      "text/html": [
       "<div>\n",
       "<style scoped>\n",
       "    .dataframe tbody tr th:only-of-type {\n",
       "        vertical-align: middle;\n",
       "    }\n",
       "\n",
       "    .dataframe tbody tr th {\n",
       "        vertical-align: top;\n",
       "    }\n",
       "\n",
       "    .dataframe thead th {\n",
       "        text-align: right;\n",
       "    }\n",
       "</style>\n",
       "<table border=\"1\" class=\"dataframe\">\n",
       "  <thead>\n",
       "    <tr style=\"text-align: right;\">\n",
       "      <th></th>\n",
       "      <th>NORAD_CAT_ID_1</th>\n",
       "      <th>OBJECT_NAME_1</th>\n",
       "      <th>DSE_1</th>\n",
       "      <th>NORAD_CAT_ID_2</th>\n",
       "      <th>OBJECT_NAME_2</th>\n",
       "      <th>DSE_2</th>\n",
       "      <th>TCA</th>\n",
       "      <th>TCA_RANGE</th>\n",
       "      <th>TCA_RELATIVE_SPEED</th>\n",
       "      <th>MAX_PROB</th>\n",
       "      <th>DILUTION</th>\n",
       "    </tr>\n",
       "  </thead>\n",
       "  <tbody>\n",
       "    <tr>\n",
       "      <th>0</th>\n",
       "      <td>54194</td>\n",
       "      <td>STARLINK-5271 [+]</td>\n",
       "      <td>4.440</td>\n",
       "      <td>57327</td>\n",
       "      <td>OBJECT BB [-]</td>\n",
       "      <td>4.017</td>\n",
       "      <td>2023-11-16 10:19:56.153</td>\n",
       "      <td>0.015</td>\n",
       "      <td>14.689</td>\n",
       "      <td>0.074910</td>\n",
       "      <td>0.008</td>\n",
       "    </tr>\n",
       "    <tr>\n",
       "      <th>1</th>\n",
       "      <td>53980</td>\n",
       "      <td>STARLINK-5133 [+]</td>\n",
       "      <td>6.673</td>\n",
       "      <td>39690</td>\n",
       "      <td>COSMOS 921 DEB [-]</td>\n",
       "      <td>6.440</td>\n",
       "      <td>2023-11-18 06:43:24.056</td>\n",
       "      <td>0.024</td>\n",
       "      <td>8.707</td>\n",
       "      <td>0.054480</td>\n",
       "      <td>0.007</td>\n",
       "    </tr>\n",
       "    <tr>\n",
       "      <th>2</th>\n",
       "      <td>52380</td>\n",
       "      <td>STARLINK-3793 [+]</td>\n",
       "      <td>1.755</td>\n",
       "      <td>43801</td>\n",
       "      <td>OBJECT AV [-]</td>\n",
       "      <td>1.225</td>\n",
       "      <td>2023-11-13 16:11:23.309</td>\n",
       "      <td>0.026</td>\n",
       "      <td>5.733</td>\n",
       "      <td>0.051040</td>\n",
       "      <td>0.007</td>\n",
       "    </tr>\n",
       "    <tr>\n",
       "      <th>3</th>\n",
       "      <td>56154</td>\n",
       "      <td>OBJECT B [+]</td>\n",
       "      <td>0.484</td>\n",
       "      <td>56155</td>\n",
       "      <td>OBJECT C [+]</td>\n",
       "      <td>0.484</td>\n",
       "      <td>2023-11-12 23:53:39.065</td>\n",
       "      <td>0.029</td>\n",
       "      <td>0.001</td>\n",
       "      <td>0.005313</td>\n",
       "      <td>0.007</td>\n",
       "    </tr>\n",
       "    <tr>\n",
       "      <th>4</th>\n",
       "      <td>41850</td>\n",
       "      <td>CELTEE 1 [+]</td>\n",
       "      <td>2.070</td>\n",
       "      <td>55991</td>\n",
       "      <td>STARLINK-5948 [+]</td>\n",
       "      <td>1.485</td>\n",
       "      <td>2023-11-13 22:37:57.150</td>\n",
       "      <td>0.032</td>\n",
       "      <td>13.486</td>\n",
       "      <td>0.021000</td>\n",
       "      <td>0.014</td>\n",
       "    </tr>\n",
       "  </tbody>\n",
       "</table>\n",
       "</div>"
      ],
      "text/plain": [
       "   NORAD_CAT_ID_1      OBJECT_NAME_1  DSE_1  NORAD_CAT_ID_2  \\\n",
       "0           54194  STARLINK-5271 [+]  4.440           57327   \n",
       "1           53980  STARLINK-5133 [+]  6.673           39690   \n",
       "2           52380  STARLINK-3793 [+]  1.755           43801   \n",
       "3           56154       OBJECT B [+]  0.484           56155   \n",
       "4           41850       CELTEE 1 [+]  2.070           55991   \n",
       "\n",
       "        OBJECT_NAME_2  DSE_2                      TCA  TCA_RANGE  \\\n",
       "0       OBJECT BB [-]  4.017  2023-11-16 10:19:56.153      0.015   \n",
       "1  COSMOS 921 DEB [-]  6.440  2023-11-18 06:43:24.056      0.024   \n",
       "2       OBJECT AV [-]  1.225  2023-11-13 16:11:23.309      0.026   \n",
       "3        OBJECT C [+]  0.484  2023-11-12 23:53:39.065      0.029   \n",
       "4   STARLINK-5948 [+]  1.485  2023-11-13 22:37:57.150      0.032   \n",
       "\n",
       "   TCA_RELATIVE_SPEED  MAX_PROB  DILUTION  \n",
       "0              14.689  0.074910     0.008  \n",
       "1               8.707  0.054480     0.007  \n",
       "2               5.733  0.051040     0.007  \n",
       "3               0.001  0.005313     0.007  \n",
       "4              13.486  0.021000     0.014  "
      ]
     },
     "execution_count": 15,
     "metadata": {},
     "output_type": "execute_result"
    }
   ],
   "source": [
    "df.head()"
   ]
  },
  {
   "cell_type": "code",
   "execution_count": 16,
   "id": "b2a10320",
   "metadata": {
    "execution": {
     "iopub.execute_input": "2023-11-13T04:38:42.387860Z",
     "iopub.status.busy": "2023-11-13T04:38:42.387121Z",
     "iopub.status.idle": "2023-11-13T04:38:42.393445Z",
     "shell.execute_reply": "2023-11-13T04:38:42.392615Z"
    },
    "papermill": {
     "duration": 0.027223,
     "end_time": "2023-11-13T04:38:42.395738",
     "exception": false,
     "start_time": "2023-11-13T04:38:42.368515",
     "status": "completed"
    },
    "tags": []
   },
   "outputs": [],
   "source": [
    "df['OBJECT_NAME_1'] = df['OBJECT_NAME_1'][1][-2]"
   ]
  },
  {
   "cell_type": "code",
   "execution_count": 17,
   "id": "d232a2b5",
   "metadata": {
    "execution": {
     "iopub.execute_input": "2023-11-13T04:38:42.432239Z",
     "iopub.status.busy": "2023-11-13T04:38:42.431362Z",
     "iopub.status.idle": "2023-11-13T04:38:42.536524Z",
     "shell.execute_reply": "2023-11-13T04:38:42.535100Z"
    },
    "papermill": {
     "duration": 0.127444,
     "end_time": "2023-11-13T04:38:42.539710",
     "exception": false,
     "start_time": "2023-11-13T04:38:42.412266",
     "status": "completed"
    },
    "tags": []
   },
   "outputs": [],
   "source": [
    "df['OBJECT_NAME_1'] =df['OBJECT_NAME_1'].replace('+','active') \n",
    "df['OBJECT_NAME_1'] =df['OBJECT_NAME_1'].replace('P','active')\n",
    "df['OBJECT_NAME_1'] =df['OBJECT_NAME_1'].replace('B','active')\n",
    "df['OBJECT_NAME_1'] =df['OBJECT_NAME_1'].replace('S','active')\n",
    "df['OBJECT_NAME_1'] =df['OBJECT_NAME_1'].replace('X','active')\n",
    "df['OBJECT_NAME_1'] =df['OBJECT_NAME_1'].replace('-','inactive')\n",
    "df['OBJECT_NAME_1'] =df['OBJECT_NAME_1'].replace('D','inactive')\n",
    "df['OBJECT_NAME_1'] =df['OBJECT_NAME_1'].replace('?','inactive')"
   ]
  },
  {
   "cell_type": "code",
   "execution_count": 18,
   "id": "68f02bb8",
   "metadata": {
    "execution": {
     "iopub.execute_input": "2023-11-13T04:38:42.575158Z",
     "iopub.status.busy": "2023-11-13T04:38:42.574718Z",
     "iopub.status.idle": "2023-11-13T04:38:42.588278Z",
     "shell.execute_reply": "2023-11-13T04:38:42.587089Z"
    },
    "papermill": {
     "duration": 0.034584,
     "end_time": "2023-11-13T04:38:42.590878",
     "exception": false,
     "start_time": "2023-11-13T04:38:42.556294",
     "status": "completed"
    },
    "tags": []
   },
   "outputs": [
    {
     "data": {
      "text/plain": [
       "array(['active'], dtype=object)"
      ]
     },
     "execution_count": 18,
     "metadata": {},
     "output_type": "execute_result"
    }
   ],
   "source": [
    "#unique value\n",
    "df['OBJECT_NAME_1'].unique()"
   ]
  },
  {
   "cell_type": "code",
   "execution_count": 19,
   "id": "837eccbb",
   "metadata": {
    "execution": {
     "iopub.execute_input": "2023-11-13T04:38:42.626905Z",
     "iopub.status.busy": "2023-11-13T04:38:42.625746Z",
     "iopub.status.idle": "2023-11-13T04:38:42.641596Z",
     "shell.execute_reply": "2023-11-13T04:38:42.640441Z"
    },
    "papermill": {
     "duration": 0.036274,
     "end_time": "2023-11-13T04:38:42.643958",
     "exception": false,
     "start_time": "2023-11-13T04:38:42.607684",
     "status": "completed"
    },
    "tags": []
   },
   "outputs": [
    {
     "data": {
      "text/plain": [
       "array(['OBJECT BB [-]', 'COSMOS 921 DEB [-]', 'OBJECT AV [-]', ...,\n",
       "       'STARLINK-2423 [+]', 'STARLINK-3702 [+]', 'STARLINK-5415 [+]'],\n",
       "      dtype=object)"
      ]
     },
     "execution_count": 19,
     "metadata": {},
     "output_type": "execute_result"
    }
   ],
   "source": [
    "#unique value\n",
    "df['OBJECT_NAME_2'].unique()"
   ]
  },
  {
   "cell_type": "code",
   "execution_count": 20,
   "id": "7f7075d4",
   "metadata": {
    "execution": {
     "iopub.execute_input": "2023-11-13T04:38:42.679734Z",
     "iopub.status.busy": "2023-11-13T04:38:42.679044Z",
     "iopub.status.idle": "2023-11-13T04:38:42.685116Z",
     "shell.execute_reply": "2023-11-13T04:38:42.684355Z"
    },
    "papermill": {
     "duration": 0.026717,
     "end_time": "2023-11-13T04:38:42.687352",
     "exception": false,
     "start_time": "2023-11-13T04:38:42.660635",
     "status": "completed"
    },
    "tags": []
   },
   "outputs": [],
   "source": [
    "df['OBJECT_NAME_2'] = df['OBJECT_NAME_2'][1][-2]"
   ]
  },
  {
   "cell_type": "code",
   "execution_count": 21,
   "id": "8a2cbbc6",
   "metadata": {
    "execution": {
     "iopub.execute_input": "2023-11-13T04:38:42.722894Z",
     "iopub.status.busy": "2023-11-13T04:38:42.722132Z",
     "iopub.status.idle": "2023-11-13T04:38:42.741404Z",
     "shell.execute_reply": "2023-11-13T04:38:42.740042Z"
    },
    "papermill": {
     "duration": 0.040566,
     "end_time": "2023-11-13T04:38:42.744201",
     "exception": false,
     "start_time": "2023-11-13T04:38:42.703635",
     "status": "completed"
    },
    "tags": []
   },
   "outputs": [],
   "source": [
    "df['OBJECT_NAME_2'] =df['OBJECT_NAME_2'].replace('-','inactive')"
   ]
  },
  {
   "cell_type": "code",
   "execution_count": 22,
   "id": "e1e76c11",
   "metadata": {
    "execution": {
     "iopub.execute_input": "2023-11-13T04:38:42.779155Z",
     "iopub.status.busy": "2023-11-13T04:38:42.778446Z",
     "iopub.status.idle": "2023-11-13T04:38:42.796167Z",
     "shell.execute_reply": "2023-11-13T04:38:42.795022Z"
    },
    "papermill": {
     "duration": 0.037768,
     "end_time": "2023-11-13T04:38:42.798281",
     "exception": false,
     "start_time": "2023-11-13T04:38:42.760513",
     "status": "completed"
    },
    "tags": []
   },
   "outputs": [
    {
     "data": {
      "text/html": [
       "<div>\n",
       "<style scoped>\n",
       "    .dataframe tbody tr th:only-of-type {\n",
       "        vertical-align: middle;\n",
       "    }\n",
       "\n",
       "    .dataframe tbody tr th {\n",
       "        vertical-align: top;\n",
       "    }\n",
       "\n",
       "    .dataframe thead th {\n",
       "        text-align: right;\n",
       "    }\n",
       "</style>\n",
       "<table border=\"1\" class=\"dataframe\">\n",
       "  <thead>\n",
       "    <tr style=\"text-align: right;\">\n",
       "      <th></th>\n",
       "      <th>NORAD_CAT_ID_1</th>\n",
       "      <th>OBJECT_NAME_1</th>\n",
       "      <th>DSE_1</th>\n",
       "      <th>NORAD_CAT_ID_2</th>\n",
       "      <th>OBJECT_NAME_2</th>\n",
       "      <th>DSE_2</th>\n",
       "      <th>TCA</th>\n",
       "      <th>TCA_RANGE</th>\n",
       "      <th>TCA_RELATIVE_SPEED</th>\n",
       "      <th>MAX_PROB</th>\n",
       "      <th>DILUTION</th>\n",
       "    </tr>\n",
       "  </thead>\n",
       "  <tbody>\n",
       "    <tr>\n",
       "      <th>0</th>\n",
       "      <td>54194</td>\n",
       "      <td>active</td>\n",
       "      <td>4.440</td>\n",
       "      <td>57327</td>\n",
       "      <td>inactive</td>\n",
       "      <td>4.017</td>\n",
       "      <td>2023-11-16 10:19:56.153</td>\n",
       "      <td>0.015</td>\n",
       "      <td>14.689</td>\n",
       "      <td>0.074910</td>\n",
       "      <td>0.008</td>\n",
       "    </tr>\n",
       "    <tr>\n",
       "      <th>1</th>\n",
       "      <td>53980</td>\n",
       "      <td>active</td>\n",
       "      <td>6.673</td>\n",
       "      <td>39690</td>\n",
       "      <td>inactive</td>\n",
       "      <td>6.440</td>\n",
       "      <td>2023-11-18 06:43:24.056</td>\n",
       "      <td>0.024</td>\n",
       "      <td>8.707</td>\n",
       "      <td>0.054480</td>\n",
       "      <td>0.007</td>\n",
       "    </tr>\n",
       "    <tr>\n",
       "      <th>2</th>\n",
       "      <td>52380</td>\n",
       "      <td>active</td>\n",
       "      <td>1.755</td>\n",
       "      <td>43801</td>\n",
       "      <td>inactive</td>\n",
       "      <td>1.225</td>\n",
       "      <td>2023-11-13 16:11:23.309</td>\n",
       "      <td>0.026</td>\n",
       "      <td>5.733</td>\n",
       "      <td>0.051040</td>\n",
       "      <td>0.007</td>\n",
       "    </tr>\n",
       "    <tr>\n",
       "      <th>3</th>\n",
       "      <td>56154</td>\n",
       "      <td>active</td>\n",
       "      <td>0.484</td>\n",
       "      <td>56155</td>\n",
       "      <td>inactive</td>\n",
       "      <td>0.484</td>\n",
       "      <td>2023-11-12 23:53:39.065</td>\n",
       "      <td>0.029</td>\n",
       "      <td>0.001</td>\n",
       "      <td>0.005313</td>\n",
       "      <td>0.007</td>\n",
       "    </tr>\n",
       "    <tr>\n",
       "      <th>4</th>\n",
       "      <td>41850</td>\n",
       "      <td>active</td>\n",
       "      <td>2.070</td>\n",
       "      <td>55991</td>\n",
       "      <td>inactive</td>\n",
       "      <td>1.485</td>\n",
       "      <td>2023-11-13 22:37:57.150</td>\n",
       "      <td>0.032</td>\n",
       "      <td>13.486</td>\n",
       "      <td>0.021000</td>\n",
       "      <td>0.014</td>\n",
       "    </tr>\n",
       "  </tbody>\n",
       "</table>\n",
       "</div>"
      ],
      "text/plain": [
       "   NORAD_CAT_ID_1 OBJECT_NAME_1  DSE_1  NORAD_CAT_ID_2 OBJECT_NAME_2  DSE_2  \\\n",
       "0           54194        active  4.440           57327      inactive  4.017   \n",
       "1           53980        active  6.673           39690      inactive  6.440   \n",
       "2           52380        active  1.755           43801      inactive  1.225   \n",
       "3           56154        active  0.484           56155      inactive  0.484   \n",
       "4           41850        active  2.070           55991      inactive  1.485   \n",
       "\n",
       "                       TCA  TCA_RANGE  TCA_RELATIVE_SPEED  MAX_PROB  DILUTION  \n",
       "0  2023-11-16 10:19:56.153      0.015              14.689  0.074910     0.008  \n",
       "1  2023-11-18 06:43:24.056      0.024               8.707  0.054480     0.007  \n",
       "2  2023-11-13 16:11:23.309      0.026               5.733  0.051040     0.007  \n",
       "3  2023-11-12 23:53:39.065      0.029               0.001  0.005313     0.007  \n",
       "4  2023-11-13 22:37:57.150      0.032              13.486  0.021000     0.014  "
      ]
     },
     "execution_count": 22,
     "metadata": {},
     "output_type": "execute_result"
    }
   ],
   "source": [
    "df.head()"
   ]
  },
  {
   "cell_type": "code",
   "execution_count": 23,
   "id": "bb2f71ed",
   "metadata": {
    "execution": {
     "iopub.execute_input": "2023-11-13T04:38:42.833724Z",
     "iopub.status.busy": "2023-11-13T04:38:42.832673Z",
     "iopub.status.idle": "2023-11-13T04:38:42.853609Z",
     "shell.execute_reply": "2023-11-13T04:38:42.852155Z"
    },
    "papermill": {
     "duration": 0.041572,
     "end_time": "2023-11-13T04:38:42.855874",
     "exception": false,
     "start_time": "2023-11-13T04:38:42.814302",
     "status": "completed"
    },
    "tags": []
   },
   "outputs": [],
   "source": [
    "#categorical value to numerical value\n",
    "df['OBJECT_NAME_1'] = df['OBJECT_NAME_1'].map({'active':0,'inactive':1})\n",
    "df['OBJECT_NAME_2'] = df['OBJECT_NAME_2'].map({'active':0,'inactive':1})"
   ]
  },
  {
   "cell_type": "code",
   "execution_count": 24,
   "id": "d3d8b9a2",
   "metadata": {
    "execution": {
     "iopub.execute_input": "2023-11-13T04:38:42.891616Z",
     "iopub.status.busy": "2023-11-13T04:38:42.890427Z",
     "iopub.status.idle": "2023-11-13T04:38:42.895217Z",
     "shell.execute_reply": "2023-11-13T04:38:42.894451Z"
    },
    "papermill": {
     "duration": 0.024783,
     "end_time": "2023-11-13T04:38:42.897213",
     "exception": false,
     "start_time": "2023-11-13T04:38:42.872430",
     "status": "completed"
    },
    "tags": []
   },
   "outputs": [],
   "source": [
    "import datetime\n",
    "from datetime import datetime"
   ]
  },
  {
   "cell_type": "code",
   "execution_count": 25,
   "id": "30de6717",
   "metadata": {
    "execution": {
     "iopub.execute_input": "2023-11-13T04:38:42.933049Z",
     "iopub.status.busy": "2023-11-13T04:38:42.932346Z",
     "iopub.status.idle": "2023-11-13T04:38:42.942013Z",
     "shell.execute_reply": "2023-11-13T04:38:42.940822Z"
    },
    "papermill": {
     "duration": 0.030575,
     "end_time": "2023-11-13T04:38:42.944148",
     "exception": false,
     "start_time": "2023-11-13T04:38:42.913573",
     "status": "completed"
    },
    "tags": []
   },
   "outputs": [
    {
     "data": {
      "text/plain": [
       "0        2023-11-16 10:19:56.153\n",
       "1        2023-11-18 06:43:24.056\n",
       "2        2023-11-13 16:11:23.309\n",
       "3        2023-11-12 23:53:39.065\n",
       "4        2023-11-13 22:37:57.150\n",
       "                  ...           \n",
       "67522    2023-11-18 13:25:17.082\n",
       "67523    2023-11-19 14:52:39.719\n",
       "67524    2023-11-14 17:05:16.918\n",
       "67525    2023-11-14 22:13:42.123\n",
       "67526    2023-11-16 19:13:58.676\n",
       "Name: TCA, Length: 67527, dtype: object"
      ]
     },
     "execution_count": 25,
     "metadata": {},
     "output_type": "execute_result"
    }
   ],
   "source": [
    "df['TCA']"
   ]
  },
  {
   "cell_type": "code",
   "execution_count": 26,
   "id": "7a7bee02",
   "metadata": {
    "execution": {
     "iopub.execute_input": "2023-11-13T04:38:42.980395Z",
     "iopub.status.busy": "2023-11-13T04:38:42.979667Z",
     "iopub.status.idle": "2023-11-13T04:38:43.164352Z",
     "shell.execute_reply": "2023-11-13T04:38:43.162972Z"
    },
    "papermill": {
     "duration": 0.206089,
     "end_time": "2023-11-13T04:38:43.167135",
     "exception": false,
     "start_time": "2023-11-13T04:38:42.961046",
     "status": "completed"
    },
    "tags": []
   },
   "outputs": [],
   "source": [
    "#to change timestamp format\n",
    "df['TCA'] = pd.to_datetime(df['TCA'])\n",
    "df['TCA_N'] = df['TCA'].apply(lambda x: datetime.timestamp(x))"
   ]
  },
  {
   "cell_type": "code",
   "execution_count": 27,
   "id": "1da1f062",
   "metadata": {
    "execution": {
     "iopub.execute_input": "2023-11-13T04:38:43.204998Z",
     "iopub.status.busy": "2023-11-13T04:38:43.203983Z",
     "iopub.status.idle": "2023-11-13T04:38:43.212799Z",
     "shell.execute_reply": "2023-11-13T04:38:43.211875Z"
    },
    "papermill": {
     "duration": 0.030222,
     "end_time": "2023-11-13T04:38:43.215196",
     "exception": false,
     "start_time": "2023-11-13T04:38:43.184974",
     "status": "completed"
    },
    "tags": []
   },
   "outputs": [],
   "source": [
    "df=df.drop('TCA',axis=1)"
   ]
  },
  {
   "cell_type": "code",
   "execution_count": 28,
   "id": "f4c7443d",
   "metadata": {
    "execution": {
     "iopub.execute_input": "2023-11-13T04:38:43.253484Z",
     "iopub.status.busy": "2023-11-13T04:38:43.252628Z",
     "iopub.status.idle": "2023-11-13T04:38:43.272038Z",
     "shell.execute_reply": "2023-11-13T04:38:43.270943Z"
    },
    "papermill": {
     "duration": 0.041353,
     "end_time": "2023-11-13T04:38:43.274816",
     "exception": false,
     "start_time": "2023-11-13T04:38:43.233463",
     "status": "completed"
    },
    "tags": []
   },
   "outputs": [
    {
     "data": {
      "text/html": [
       "<div>\n",
       "<style scoped>\n",
       "    .dataframe tbody tr th:only-of-type {\n",
       "        vertical-align: middle;\n",
       "    }\n",
       "\n",
       "    .dataframe tbody tr th {\n",
       "        vertical-align: top;\n",
       "    }\n",
       "\n",
       "    .dataframe thead th {\n",
       "        text-align: right;\n",
       "    }\n",
       "</style>\n",
       "<table border=\"1\" class=\"dataframe\">\n",
       "  <thead>\n",
       "    <tr style=\"text-align: right;\">\n",
       "      <th></th>\n",
       "      <th>NORAD_CAT_ID_1</th>\n",
       "      <th>OBJECT_NAME_1</th>\n",
       "      <th>DSE_1</th>\n",
       "      <th>NORAD_CAT_ID_2</th>\n",
       "      <th>OBJECT_NAME_2</th>\n",
       "      <th>DSE_2</th>\n",
       "      <th>TCA_RANGE</th>\n",
       "      <th>TCA_RELATIVE_SPEED</th>\n",
       "      <th>MAX_PROB</th>\n",
       "      <th>DILUTION</th>\n",
       "      <th>TCA_N</th>\n",
       "    </tr>\n",
       "  </thead>\n",
       "  <tbody>\n",
       "    <tr>\n",
       "      <th>0</th>\n",
       "      <td>54194</td>\n",
       "      <td>0</td>\n",
       "      <td>4.440</td>\n",
       "      <td>57327</td>\n",
       "      <td>1</td>\n",
       "      <td>4.017</td>\n",
       "      <td>0.015</td>\n",
       "      <td>14.689</td>\n",
       "      <td>0.074910</td>\n",
       "      <td>0.008</td>\n",
       "      <td>1.700130e+09</td>\n",
       "    </tr>\n",
       "    <tr>\n",
       "      <th>1</th>\n",
       "      <td>53980</td>\n",
       "      <td>0</td>\n",
       "      <td>6.673</td>\n",
       "      <td>39690</td>\n",
       "      <td>1</td>\n",
       "      <td>6.440</td>\n",
       "      <td>0.024</td>\n",
       "      <td>8.707</td>\n",
       "      <td>0.054480</td>\n",
       "      <td>0.007</td>\n",
       "      <td>1.700290e+09</td>\n",
       "    </tr>\n",
       "    <tr>\n",
       "      <th>2</th>\n",
       "      <td>52380</td>\n",
       "      <td>0</td>\n",
       "      <td>1.755</td>\n",
       "      <td>43801</td>\n",
       "      <td>1</td>\n",
       "      <td>1.225</td>\n",
       "      <td>0.026</td>\n",
       "      <td>5.733</td>\n",
       "      <td>0.051040</td>\n",
       "      <td>0.007</td>\n",
       "      <td>1.699892e+09</td>\n",
       "    </tr>\n",
       "    <tr>\n",
       "      <th>3</th>\n",
       "      <td>56154</td>\n",
       "      <td>0</td>\n",
       "      <td>0.484</td>\n",
       "      <td>56155</td>\n",
       "      <td>1</td>\n",
       "      <td>0.484</td>\n",
       "      <td>0.029</td>\n",
       "      <td>0.001</td>\n",
       "      <td>0.005313</td>\n",
       "      <td>0.007</td>\n",
       "      <td>1.699833e+09</td>\n",
       "    </tr>\n",
       "    <tr>\n",
       "      <th>4</th>\n",
       "      <td>41850</td>\n",
       "      <td>0</td>\n",
       "      <td>2.070</td>\n",
       "      <td>55991</td>\n",
       "      <td>1</td>\n",
       "      <td>1.485</td>\n",
       "      <td>0.032</td>\n",
       "      <td>13.486</td>\n",
       "      <td>0.021000</td>\n",
       "      <td>0.014</td>\n",
       "      <td>1.699915e+09</td>\n",
       "    </tr>\n",
       "  </tbody>\n",
       "</table>\n",
       "</div>"
      ],
      "text/plain": [
       "   NORAD_CAT_ID_1  OBJECT_NAME_1  DSE_1  NORAD_CAT_ID_2  OBJECT_NAME_2  DSE_2  \\\n",
       "0           54194              0  4.440           57327              1  4.017   \n",
       "1           53980              0  6.673           39690              1  6.440   \n",
       "2           52380              0  1.755           43801              1  1.225   \n",
       "3           56154              0  0.484           56155              1  0.484   \n",
       "4           41850              0  2.070           55991              1  1.485   \n",
       "\n",
       "   TCA_RANGE  TCA_RELATIVE_SPEED  MAX_PROB  DILUTION         TCA_N  \n",
       "0      0.015              14.689  0.074910     0.008  1.700130e+09  \n",
       "1      0.024               8.707  0.054480     0.007  1.700290e+09  \n",
       "2      0.026               5.733  0.051040     0.007  1.699892e+09  \n",
       "3      0.029               0.001  0.005313     0.007  1.699833e+09  \n",
       "4      0.032              13.486  0.021000     0.014  1.699915e+09  "
      ]
     },
     "execution_count": 28,
     "metadata": {},
     "output_type": "execute_result"
    }
   ],
   "source": [
    "df.head()"
   ]
  },
  {
   "cell_type": "code",
   "execution_count": 29,
   "id": "a2a47558",
   "metadata": {
    "execution": {
     "iopub.execute_input": "2023-11-13T04:38:43.313023Z",
     "iopub.status.busy": "2023-11-13T04:38:43.312597Z",
     "iopub.status.idle": "2023-11-13T04:38:44.193327Z",
     "shell.execute_reply": "2023-11-13T04:38:44.192249Z"
    },
    "papermill": {
     "duration": 0.903949,
     "end_time": "2023-11-13T04:38:44.196755",
     "exception": false,
     "start_time": "2023-11-13T04:38:43.292806",
     "status": "completed"
    },
    "tags": []
   },
   "outputs": [
    {
     "data": {
      "text/plain": [
       "<Axes: >"
      ]
     },
     "execution_count": 29,
     "metadata": {},
     "output_type": "execute_result"
    },
    {
     "data": {
      "image/png": "[encoded data removed]",
      "text/plain": [
       "<Figure size 1200x1000 with 2 Axes>"
      ]
     },
     "metadata": {},
     "output_type": "display_data"
    }
   ],
   "source": [
    "#heatmap\n",
    "plt.figure(figsize=(12,10))\n",
    "sns.heatmap(df.corr(),annot=True,cmap='Greens')"
   ]
  },
  {
   "cell_type": "code",
   "execution_count": null,
   "id": "5fc59e0c",
   "metadata": {
    "papermill": {
     "duration": 0.020432,
     "end_time": "2023-11-13T04:38:44.236756",
     "exception": false,
     "start_time": "2023-11-13T04:38:44.216324",
     "status": "completed"
    },
    "tags": []
   },
   "outputs": [],
   "source": []
  },
  {
   "cell_type": "code",
   "execution_count": 30,
   "id": "9c030535",
   "metadata": {
    "execution": {
     "iopub.execute_input": "2023-11-13T04:38:44.278408Z",
     "iopub.status.busy": "2023-11-13T04:38:44.277969Z",
     "iopub.status.idle": "2023-11-13T04:38:44.288419Z",
     "shell.execute_reply": "2023-11-13T04:38:44.287308Z"
    },
    "papermill": {
     "duration": 0.033972,
     "end_time": "2023-11-13T04:38:44.290860",
     "exception": false,
     "start_time": "2023-11-13T04:38:44.256888",
     "status": "completed"
    },
    "tags": []
   },
   "outputs": [],
   "source": [
    "X=df.drop('DILUTION',axis=1)\n",
    "y=df[['DILUTION']]"
   ]
  },
  {
   "cell_type": "code",
   "execution_count": 31,
   "id": "1aa5fef9",
   "metadata": {
    "execution": {
     "iopub.execute_input": "2023-11-13T04:38:44.332390Z",
     "iopub.status.busy": "2023-11-13T04:38:44.331963Z",
     "iopub.status.idle": "2023-11-13T04:38:44.729244Z",
     "shell.execute_reply": "2023-11-13T04:38:44.728140Z"
    },
    "papermill": {
     "duration": 0.421183,
     "end_time": "2023-11-13T04:38:44.732159",
     "exception": false,
     "start_time": "2023-11-13T04:38:44.310976",
     "status": "completed"
    },
    "tags": []
   },
   "outputs": [],
   "source": [
    "#splitting data\n",
    "from sklearn.model_selection import train_test_split\n",
    "\n",
    "X_train,X_val,y_train,y_val=train_test_split(X,y,test_size=0.2,random_state=42)"
   ]
  },
  {
   "cell_type": "code",
   "execution_count": 32,
   "id": "5bcd8133",
   "metadata": {
    "execution": {
     "iopub.execute_input": "2023-11-13T04:38:44.774052Z",
     "iopub.status.busy": "2023-11-13T04:38:44.773289Z",
     "iopub.status.idle": "2023-11-13T04:38:44.780655Z",
     "shell.execute_reply": "2023-11-13T04:38:44.779232Z"
    },
    "papermill": {
     "duration": 0.031119,
     "end_time": "2023-11-13T04:38:44.783151",
     "exception": false,
     "start_time": "2023-11-13T04:38:44.752032",
     "status": "completed"
    },
    "tags": []
   },
   "outputs": [
    {
     "name": "stdout",
     "output_type": "stream",
     "text": [
      "X_train (54021, 10)\n",
      "y_train (54021, 1)\n",
      "X_val (13506, 10)\n",
      "y_val (13506, 1)\n"
     ]
    }
   ],
   "source": [
    "print(f'X_train',X_train.shape)\n",
    "print(f'y_train',y_train.shape)\n",
    "print(f'X_val',X_val.shape)\n",
    "print(f'y_val',y_val.shape)"
   ]
  },
  {
   "cell_type": "markdown",
   "id": "43af98f5",
   "metadata": {
    "papermill": {
     "duration": 0.019183,
     "end_time": "2023-11-13T04:38:44.821824",
     "exception": false,
     "start_time": "2023-11-13T04:38:44.802641",
     "status": "completed"
    },
    "tags": []
   },
   "source": [
    "## Model Building"
   ]
  },
  {
   "cell_type": "code",
   "execution_count": 33,
   "id": "4e16774b",
   "metadata": {
    "execution": {
     "iopub.execute_input": "2023-11-13T04:38:44.862888Z",
     "iopub.status.busy": "2023-11-13T04:38:44.862461Z",
     "iopub.status.idle": "2023-11-13T04:38:50.228379Z",
     "shell.execute_reply": "2023-11-13T04:38:50.227260Z"
    },
    "papermill": {
     "duration": 5.38948,
     "end_time": "2023-11-13T04:38:50.230925",
     "exception": false,
     "start_time": "2023-11-13T04:38:44.841445",
     "status": "completed"
    },
    "tags": []
   },
   "outputs": [
    {
     "data": {
      "text/html": [
       "<style>#sk-container-id-1 {color: black;background-color: white;}#sk-container-id-1 pre{padding: 0;}#sk-container-id-1 div.sk-toggleable {background-color: white;}#sk-container-id-1 label.sk-toggleable__label {cursor: pointer;display: block;width: 100%;margin-bottom: 0;padding: 0.3em;box-sizing: border-box;text-align: center;}#sk-container-id-1 label.sk-toggleable__label-arrow:before {content: \"▸\";float: left;margin-right: 0.25em;color: #696969;}#sk-container-id-1 label.sk-toggleable__label-arrow:hover:before {color: black;}#sk-container-id-1 div.sk-estimator:hover label.sk-toggleable__label-arrow:before {color: black;}#sk-container-id-1 div.sk-toggleable__content {max-height: 0;max-width: 0;overflow: hidden;text-align: left;background-color: #f0f8ff;}#sk-container-id-1 div.sk-toggleable__content pre {margin: 0.2em;color: black;border-radius: 0.25em;background-color: #f0f8ff;}#sk-container-id-1 input.sk-toggleable__control:checked~div.sk-toggleable__content {max-height: 200px;max-width: 100%;overflow: auto;}#sk-container-id-1 input.sk-toggleable__control:checked~label.sk-toggleable__label-arrow:before {content: \"▾\";}#sk-container-id-1 div.sk-estimator input.sk-toggleable__control:checked~label.sk-toggleable__label {background-color: #d4ebff;}#sk-container-id-1 div.sk-label input.sk-toggleable__control:checked~label.sk-toggleable__label {background-color: #d4ebff;}#sk-container-id-1 input.sk-hidden--visually {border: 0;clip: rect(1px 1px 1px 1px);clip: rect(1px, 1px, 1px, 1px);height: 1px;margin: -1px;overflow: hidden;padding: 0;position: absolute;width: 1px;}#sk-container-id-1 div.sk-estimator {font-family: monospace;background-color: #f0f8ff;border: 1px dotted black;border-radius: 0.25em;box-sizing: border-box;margin-bottom: 0.5em;}#sk-container-id-1 div.sk-estimator:hover {background-color: #d4ebff;}#sk-container-id-1 div.sk-parallel-item::after {content: \"\";width: 100%;border-bottom: 1px solid gray;flex-grow: 1;}#sk-container-id-1 div.sk-label:hover label.sk-toggleable__label {background-color: #d4ebff;}#sk-container-id-1 div.sk-serial::before {content: \"\";position: absolute;border-left: 1px solid gray;box-sizing: border-box;top: 0;bottom: 0;left: 50%;z-index: 0;}#sk-container-id-1 div.sk-serial {display: flex;flex-direction: column;align-items: center;background-color: white;padding-right: 0.2em;padding-left: 0.2em;position: relative;}#sk-container-id-1 div.sk-item {position: relative;z-index: 1;}#sk-container-id-1 div.sk-parallel {display: flex;align-items: stretch;justify-content: center;background-color: white;position: relative;}#sk-container-id-1 div.sk-item::before, #sk-container-id-1 div.sk-parallel-item::before {content: \"\";position: absolute;border-left: 1px solid gray;box-sizing: border-box;top: 0;bottom: 0;left: 50%;z-index: -1;}#sk-container-id-1 div.sk-parallel-item {display: flex;flex-direction: column;z-index: 1;position: relative;background-color: white;}#sk-container-id-1 div.sk-parallel-item:first-child::after {align-self: flex-end;width: 50%;}#sk-container-id-1 div.sk-parallel-item:last-child::after {align-self: flex-start;width: 50%;}#sk-container-id-1 div.sk-parallel-item:only-child::after {width: 0;}#sk-container-id-1 div.sk-dashed-wrapped {border: 1px dashed gray;margin: 0 0.4em 0.5em 0.4em;box-sizing: border-box;padding-bottom: 0.4em;background-color: white;}#sk-container-id-1 div.sk-label label {font-family: monospace;font-weight: bold;display: inline-block;line-height: 1.2em;}#sk-container-id-1 div.sk-label-container {text-align: center;}#sk-container-id-1 div.sk-container {/* jupyter's `normalize.less` sets `[hidden] { display: none; }` but bootstrap.min.css set `[hidden] { display: none !important; }` so we also need the `!important` here to be able to override the default hidden behavior on the sphinx rendered scikit-learn.org. See: https://github.com/scikit-learn/scikit-learn/issues/21755 */display: inline-block !important;position: relative;}#sk-container-id-1 div.sk-text-repr-fallback {display: none;}</style><div id=\"sk-container-id-1\" class=\"sk-top-container\"><div class=\"sk-text-repr-fallback\"><pre>XGBRegressor(base_score=None, booster=None, callbacks=None,\n",
       "             colsample_bylevel=None, colsample_bynode=None,\n",
       "             colsample_bytree=None, device=None, early_stopping_rounds=None,\n",
       "             enable_categorical=False, eval_metric=None, feature_types=None,\n",
       "             gamma=None, grow_policy=None, importance_type=None,\n",
       "             interaction_constraints=None, learning_rate=0.01, max_bin=None,\n",
       "             max_cat_threshold=None, max_cat_to_onehot=None,\n",
       "             max_delta_step=None, max_depth=None, max_leaves=None,\n",
       "             min_child_weight=None, missing=nan, monotone_constraints=None,\n",
       "             multi_strategy=None, n_estimators=1000, n_jobs=None,\n",
       "             num_parallel_tree=None, random_state=42, ...)</pre><b>In a Jupyter environment, please rerun this cell to show the HTML representation or trust the notebook. <br />On GitHub, the HTML representation is unable to render, please try loading this page with nbviewer.org.</b></div><div class=\"sk-container\" hidden><div class=\"sk-item\"><div class=\"sk-estimator sk-toggleable\"><input class=\"sk-toggleable__control sk-hidden--visually\" id=\"sk-estimator-id-1\" type=\"checkbox\" checked><label for=\"sk-estimator-id-1\" class=\"sk-toggleable__label sk-toggleable__label-arrow\">XGBRegressor</label><div class=\"sk-toggleable__content\"><pre>XGBRegressor(base_score=None, booster=None, callbacks=None,\n",
       "             colsample_bylevel=None, colsample_bynode=None,\n",
       "             colsample_bytree=None, device=None, early_stopping_rounds=None,\n",
       "             enable_categorical=False, eval_metric=None, feature_types=None,\n",
       "             gamma=None, grow_policy=None, importance_type=None,\n",
       "             interaction_constraints=None, learning_rate=0.01, max_bin=None,\n",
       "             max_cat_threshold=None, max_cat_to_onehot=None,\n",
       "             max_delta_step=None, max_depth=None, max_leaves=None,\n",
       "             min_child_weight=None, missing=nan, monotone_constraints=None,\n",
       "             multi_strategy=None, n_estimators=1000, n_jobs=None,\n",
       "             num_parallel_tree=None, random_state=42, ...)</pre></div></div></div></div></div>"
      ],
      "text/plain": [
       "XGBRegressor(base_score=None, booster=None, callbacks=None,\n",
       "             colsample_bylevel=None, colsample_bynode=None,\n",
       "             colsample_bytree=None, device=None, early_stopping_rounds=None,\n",
       "             enable_categorical=False, eval_metric=None, feature_types=None,\n",
       "             gamma=None, grow_policy=None, importance_type=None,\n",
       "             interaction_constraints=None, learning_rate=0.01, max_bin=None,\n",
       "             max_cat_threshold=None, max_cat_to_onehot=None,\n",
       "             max_delta_step=None, max_depth=None, max_leaves=None,\n",
       "             min_child_weight=None, missing=nan, monotone_constraints=None,\n",
       "             multi_strategy=None, n_estimators=1000, n_jobs=None,\n",
       "             num_parallel_tree=None, random_state=42, ...)"
      ]
     },
     "execution_count": 33,
     "metadata": {},
     "output_type": "execute_result"
    }
   ],
   "source": [
    "from xgboost import XGBRegressor\n",
    "\n",
    "xgb=XGBRegressor(n_estimators=1000,learning_rate=0.01,random_state=42)\n",
    "\n",
    "#fit the model\n",
    "xgb.fit(X_train,y_train)"
   ]
  },
  {
   "cell_type": "markdown",
   "id": "57ecb93e",
   "metadata": {
    "papermill": {
     "duration": 0.019392,
     "end_time": "2023-11-13T04:38:50.270157",
     "exception": false,
     "start_time": "2023-11-13T04:38:50.250765",
     "status": "completed"
    },
    "tags": []
   },
   "source": [
    "## Prediction and mae"
   ]
  },
  {
   "cell_type": "code",
   "execution_count": 34,
   "id": "fb4106d2",
   "metadata": {
    "execution": {
     "iopub.execute_input": "2023-11-13T04:38:50.312186Z",
     "iopub.status.busy": "2023-11-13T04:38:50.311486Z",
     "iopub.status.idle": "2023-11-13T04:38:50.316425Z",
     "shell.execute_reply": "2023-11-13T04:38:50.315596Z"
    },
    "papermill": {
     "duration": 0.028442,
     "end_time": "2023-11-13T04:38:50.318688",
     "exception": false,
     "start_time": "2023-11-13T04:38:50.290246",
     "status": "completed"
    },
    "tags": []
   },
   "outputs": [],
   "source": [
    "from sklearn.metrics import mean_squared_error"
   ]
  },
  {
   "cell_type": "code",
   "execution_count": 35,
   "id": "23d0bfcb",
   "metadata": {
    "execution": {
     "iopub.execute_input": "2023-11-13T04:38:50.360620Z",
     "iopub.status.busy": "2023-11-13T04:38:50.360058Z",
     "iopub.status.idle": "2023-11-13T04:38:50.508299Z",
     "shell.execute_reply": "2023-11-13T04:38:50.507374Z"
    },
    "papermill": {
     "duration": 0.171791,
     "end_time": "2023-11-13T04:38:50.510632",
     "exception": false,
     "start_time": "2023-11-13T04:38:50.338841",
     "status": "completed"
    },
    "tags": []
   },
   "outputs": [
    {
     "name": "stdout",
     "output_type": "stream",
     "text": [
      "Mean Absolute Error :  0.00261\n"
     ]
    }
   ],
   "source": [
    "pred=xgb.predict(X_val)\n",
    "\n",
    "mae = mean_squared_error(pred,y_val)\n",
    "print('Mean Absolute Error : ',round(mae,5))"
   ]
  }
 ],
 "metadata": {
  "kernelspec": {
   "display_name": "Python 3",
   "language": "python",
   "name": "python3"
  },
  "language_info": {
   "codemirror_mode": {
    "name": "ipython",
    "version": 3
   },
   "file_extension": ".py",
   "mimetype": "text/x-python",
   "name": "python",
   "nbconvert_exporter": "python",
   "pygments_lexer": "ipython3",
   "version": "3.10.12"
  },
  "papermill": {
   "default_parameters": {},
   "duration": 16.458146,
   "end_time": "2023-11-13T04:38:51.257185",
   "environment_variables": {},
   "exception": null,
   "input_path": "__notebook__.ipynb",
   "output_path": "__notebook__.ipynb",
   "parameters": {},
   "start_time": "2023-11-13T04:38:34.799039",
   "version": "2.4.0"
  }
 },
 "nbformat": 4,
 "nbformat_minor": 5
}
